{
 "cells": [
  {
   "cell_type": "markdown",
   "metadata": {},
   "source": [
    "<font size=\"6\">Практическая работа №9</font>\n"
   ]
  },
  {
   "cell_type": "markdown",
   "metadata": {},
   "source": [
    "Подключение библиотек:"
   ]
  },
  {
   "cell_type": "code",
   "execution_count": 15,
   "metadata": {},
   "outputs": [],
   "source": [
    "import pandas as pd\n",
    "import numpy as np \n",
    "import scipy.stats as stats\n",
    "import statsmodels.api as sm\n",
    "import matplotlib.pyplot as plt\n",
    "from statsmodels.formula.api import ols\n",
    "from statsmodels.stats.multicomp import pairwise_tukeyhsd"
   ]
  },
  {
   "cell_type": "markdown",
   "metadata": {},
   "source": [
    "<font size=\"4\">Задание 1. Загрузка данных.</font>\n"
   ]
  },
  {
   "cell_type": "code",
   "execution_count": 16,
   "metadata": {},
   "outputs": [],
   "source": [
    "importedData = pd.read_csv(\"insurance.csv\")"
   ]
  },
  {
   "cell_type": "markdown",
   "metadata": {},
   "source": [
    "Вывод данных:"
   ]
  },
  {
   "cell_type": "code",
   "execution_count": 17,
   "metadata": {},
   "outputs": [
    {
     "data": {
      "text/html": [
       "<div>\n",
       "<style scoped>\n",
       "    .dataframe tbody tr th:only-of-type {\n",
       "        vertical-align: middle;\n",
       "    }\n",
       "\n",
       "    .dataframe tbody tr th {\n",
       "        vertical-align: top;\n",
       "    }\n",
       "\n",
       "    .dataframe thead th {\n",
       "        text-align: right;\n",
       "    }\n",
       "</style>\n",
       "<table border=\"1\" class=\"dataframe\">\n",
       "  <thead>\n",
       "    <tr style=\"text-align: right;\">\n",
       "      <th></th>\n",
       "      <th>age</th>\n",
       "      <th>sex</th>\n",
       "      <th>bmi</th>\n",
       "      <th>children</th>\n",
       "      <th>smoker</th>\n",
       "      <th>region</th>\n",
       "      <th>charges</th>\n",
       "    </tr>\n",
       "  </thead>\n",
       "  <tbody>\n",
       "    <tr>\n",
       "      <th>0</th>\n",
       "      <td>19</td>\n",
       "      <td>female</td>\n",
       "      <td>27.900</td>\n",
       "      <td>0</td>\n",
       "      <td>yes</td>\n",
       "      <td>southwest</td>\n",
       "      <td>16884.92400</td>\n",
       "    </tr>\n",
       "    <tr>\n",
       "      <th>1</th>\n",
       "      <td>18</td>\n",
       "      <td>male</td>\n",
       "      <td>33.770</td>\n",
       "      <td>1</td>\n",
       "      <td>no</td>\n",
       "      <td>southeast</td>\n",
       "      <td>1725.55230</td>\n",
       "    </tr>\n",
       "    <tr>\n",
       "      <th>2</th>\n",
       "      <td>28</td>\n",
       "      <td>male</td>\n",
       "      <td>33.000</td>\n",
       "      <td>3</td>\n",
       "      <td>no</td>\n",
       "      <td>southeast</td>\n",
       "      <td>4449.46200</td>\n",
       "    </tr>\n",
       "    <tr>\n",
       "      <th>3</th>\n",
       "      <td>33</td>\n",
       "      <td>male</td>\n",
       "      <td>22.705</td>\n",
       "      <td>0</td>\n",
       "      <td>no</td>\n",
       "      <td>northwest</td>\n",
       "      <td>21984.47061</td>\n",
       "    </tr>\n",
       "    <tr>\n",
       "      <th>4</th>\n",
       "      <td>32</td>\n",
       "      <td>male</td>\n",
       "      <td>28.880</td>\n",
       "      <td>0</td>\n",
       "      <td>no</td>\n",
       "      <td>northwest</td>\n",
       "      <td>3866.85520</td>\n",
       "    </tr>\n",
       "  </tbody>\n",
       "</table>\n",
       "</div>"
      ],
      "text/plain": [
       "   age     sex     bmi  children smoker     region      charges\n",
       "0   19  female  27.900         0    yes  southwest  16884.92400\n",
       "1   18    male  33.770         1     no  southeast   1725.55230\n",
       "2   28    male  33.000         3     no  southeast   4449.46200\n",
       "3   33    male  22.705         0     no  northwest  21984.47061\n",
       "4   32    male  28.880         0     no  northwest   3866.85520"
      ]
     },
     "execution_count": 17,
     "metadata": {},
     "output_type": "execute_result"
    }
   ],
   "source": [
    "importedData.head(5)"
   ]
  },
  {
   "cell_type": "markdown",
   "metadata": {},
   "source": [
    "Вывод уникальных регионов:"
   ]
  },
  {
   "cell_type": "code",
   "execution_count": 18,
   "metadata": {},
   "outputs": [
    {
     "data": {
      "text/plain": [
       "array(['southwest', 'southeast', 'northwest', 'northeast'], dtype=object)"
      ]
     },
     "execution_count": 18,
     "metadata": {},
     "output_type": "execute_result"
    }
   ],
   "source": [
    "regions = importedData['region'].unique()\n",
    "importedData['region'].unique()"
   ]
  },
  {
   "cell_type": "markdown",
   "metadata": {},
   "source": [
    "<font size=\"4\">Задание 2. Выполнение однофакторного ANOVA теста.</font>"
   ]
  },
  {
   "cell_type": "code",
   "execution_count": 19,
   "metadata": {},
   "outputs": [
    {
     "data": {
      "text/html": [
       "<div>\n",
       "<style scoped>\n",
       "    .dataframe tbody tr th:only-of-type {\n",
       "        vertical-align: middle;\n",
       "    }\n",
       "\n",
       "    .dataframe tbody tr th {\n",
       "        vertical-align: top;\n",
       "    }\n",
       "\n",
       "    .dataframe thead th {\n",
       "        text-align: right;\n",
       "    }\n",
       "</style>\n",
       "<table border=\"1\" class=\"dataframe\">\n",
       "  <thead>\n",
       "    <tr style=\"text-align: right;\">\n",
       "      <th></th>\n",
       "      <th>bmi</th>\n",
       "      <th>region</th>\n",
       "    </tr>\n",
       "  </thead>\n",
       "  <tbody>\n",
       "    <tr>\n",
       "      <th>0</th>\n",
       "      <td>27.900</td>\n",
       "      <td>southwest</td>\n",
       "    </tr>\n",
       "    <tr>\n",
       "      <th>1</th>\n",
       "      <td>33.770</td>\n",
       "      <td>southeast</td>\n",
       "    </tr>\n",
       "    <tr>\n",
       "      <th>2</th>\n",
       "      <td>33.000</td>\n",
       "      <td>southeast</td>\n",
       "    </tr>\n",
       "    <tr>\n",
       "      <th>3</th>\n",
       "      <td>22.705</td>\n",
       "      <td>northwest</td>\n",
       "    </tr>\n",
       "    <tr>\n",
       "      <th>4</th>\n",
       "      <td>28.880</td>\n",
       "      <td>northwest</td>\n",
       "    </tr>\n",
       "  </tbody>\n",
       "</table>\n",
       "</div>"
      ],
      "text/plain": [
       "      bmi     region\n",
       "0  27.900  southwest\n",
       "1  33.770  southeast\n",
       "2  33.000  southeast\n",
       "3  22.705  northwest\n",
       "4  28.880  northwest"
      ]
     },
     "execution_count": 19,
     "metadata": {},
     "output_type": "execute_result"
    }
   ],
   "source": [
    "data = importedData.drop(columns=['age', 'sex', 'children', 'smoker', 'charges'])\n",
    "data.head(5)"
   ]
  },
  {
   "cell_type": "code",
   "execution_count": 20,
   "metadata": {},
   "outputs": [],
   "source": [
    "groups = data.groupby(\"region\").groups"
   ]
  },
  {
   "cell_type": "code",
   "execution_count": 21,
   "metadata": {},
   "outputs": [],
   "source": [
    "southwest = data['bmi'][groups[\"southwest\"]]\n",
    "southeast = data['bmi'][groups[\"southeast\"]]\n",
    "northwest = data['bmi'][groups[\"northwest\"]]\n",
    "northeast = data['bmi'][groups[\"northeast\"]]"
   ]
  },
  {
   "cell_type": "code",
   "execution_count": 22,
   "metadata": {},
   "outputs": [
    {
     "data": {
      "text/plain": [
       "F_onewayResult(statistic=39.49505720170283, pvalue=1.881838913929143e-24)"
      ]
     },
     "execution_count": 22,
     "metadata": {},
     "output_type": "execute_result"
    }
   ],
   "source": [
    "stats.f_oneway(southwest, southeast, northwest, northeast)\n"
   ]
  },
  {
   "cell_type": "markdown",
   "metadata": {},
   "source": [
    "<font siz=\"3\">Поскольку p < 0.05 можно сделать вывод, что нулевую теорию (гласящую о том, что средние групп равны) можно отбросить, соответственно принимается альтернативная теория, которая говорит о различии средних. Отсюда следует вывод, что фактор 'region' имеет статистически значимое влияние на показатель 'bmi' данных выборок.</font>"
   ]
  },
  {
   "cell_type": "markdown",
   "metadata": {},
   "source": [
    "<font size=\"4\">Задание 3. Выполнение однофакторного ANOVA теста при помощи библиотеки statsmodels.</font>"
   ]
  },
  {
   "cell_type": "code",
   "execution_count": 23,
   "metadata": {},
   "outputs": [
    {
     "name": "stdout",
     "output_type": "stream",
     "text": [
      "                sum_sq      df          F        PR(>F)\n",
      "region     4055.880631     3.0  39.495057  1.881839e-24\n",
      "Residual  45664.319755  1334.0        NaN           NaN\n"
     ]
    }
   ],
   "source": [
    "model = ols('bmi ~ region', data=data).fit()\n",
    "anova_result = sm.stats.anova_lm(model, typ=2)\n",
    "print(anova_result)"
   ]
  },
  {
   "cell_type": "markdown",
   "metadata": {},
   "source": [
    "<font size=\"3\">Вывод тот же самый, что и в предыдущем задании. р < 0.05...</font>"
   ]
  },
  {
   "cell_type": "markdown",
   "metadata": {},
   "source": [
    "<font size=\"4\">Задание 4. С помощью t критерия Стьюдента перебрать все пары. Определить поправку Бонферрони.</font>"
   ]
  },
  {
   "cell_type": "code",
   "execution_count": 24,
   "metadata": {},
   "outputs": [],
   "source": [
    "region_pairs = []\n",
    "\n",
    "for region1 in range(3):\n",
    "    for region2 in range (region1+1, 4):\n",
    "        region_pairs.append((regions[region1], regions[region2]))"
   ]
  },
  {
   "cell_type": "code",
   "execution_count": 25,
   "metadata": {},
   "outputs": [
    {
     "name": "stdout",
     "output_type": "stream",
     "text": [
      "southwest southeast\n",
      "Ttest_indResult(statistic=-5.908373821545118, pvalue=5.4374009639680636e-09)\n",
      "southwest northwest\n",
      "Ttest_indResult(statistic=3.2844171500398582, pvalue=0.001076958496307695)\n",
      "southwest northeast\n",
      "Ttest_indResult(statistic=3.1169000930045923, pvalue=0.0019086161671573072)\n",
      "southeast northwest\n",
      "Ttest_indResult(statistic=9.25649013552548, pvalue=2.643571405230106e-19)\n",
      "southeast northeast\n",
      "Ttest_indResult(statistic=8.790905562598699, pvalue=1.186014937424813e-17)\n",
      "northwest northeast\n",
      "Ttest_indResult(statistic=0.060307727183293185, pvalue=0.951929170821864)\n"
     ]
    }
   ],
   "source": [
    "for region1, region2 in region_pairs:\n",
    "    print(region1, region2)\n",
    "    print(stats.ttest_ind(data['bmi'].iloc[groups[region1]], data['bmi'].iloc[groups[region2]]))"
   ]
  },
  {
   "cell_type": "markdown",
   "metadata": {},
   "source": [
    "α/m = 0.0083...\n",
    "\n",
    "pvalue=5.4374009639680636e-09   < 0.008\n",
    "\n",
    "pvalue=0.001076958496307695     < 0.008\n",
    "\n",
    "pvalue=0.0019086161671573072    < 0.008\n",
    "\n",
    "pvalue=2.643571405230106e-19    < 0.008\n",
    "\n",
    "pvalue=1.186014937424813e-17    < 0.008\n",
    "\n",
    "pvalue=0.951929170821864        > 0.008"
   ]
  },
  {
   "cell_type": "markdown",
   "metadata": {},
   "source": [
    "<font size=\"3\">Из результатов данного теста можно сделать выводы, что все пары групп кроме northwest-northeast имеют статистически значимые различия.</font>"
   ]
  },
  {
   "cell_type": "markdown",
   "metadata": {},
   "source": [
    "<font size=\"4\">Задание 5. Выполнить пост-хок тесты Тьюки и построить график.</font>"
   ]
  },
  {
   "cell_type": "code",
   "execution_count": 26,
   "metadata": {},
   "outputs": [
    {
     "data": {
      "text/html": [
       "<table class=\"simpletable\">\n",
       "<caption>Multiple Comparison of Means - Tukey HSD, FWER=0.05</caption>\n",
       "<tr>\n",
       "   <th>group1</th>    <th>group2</th>   <th>meandiff</th>  <th>p-adj</th>  <th>lower</th>   <th>upper</th>  <th>reject</th>\n",
       "</tr>\n",
       "<tr>\n",
       "  <td>northeast</td> <td>northwest</td>  <td>0.0263</td>  <td>0.9999</td> <td>-1.1552</td> <td>1.2078</td>   <td>False</td>\n",
       "</tr>\n",
       "<tr>\n",
       "  <td>northeast</td> <td>southeast</td>  <td>4.1825</td>    <td>0.0</td>   <td>3.033</td>   <td>5.332</td>   <td>True</td> \n",
       "</tr>\n",
       "<tr>\n",
       "  <td>northeast</td> <td>southwest</td>  <td>1.4231</td>  <td>0.0107</td> <td>0.2416</td>  <td>2.6046</td>   <td>True</td> \n",
       "</tr>\n",
       "<tr>\n",
       "  <td>northwest</td> <td>southeast</td>  <td>4.1562</td>    <td>0.0</td>  <td>3.0077</td>  <td>5.3047</td>   <td>True</td> \n",
       "</tr>\n",
       "<tr>\n",
       "  <td>northwest</td> <td>southwest</td>  <td>1.3968</td>  <td>0.0127</td> <td>0.2162</td>  <td>2.5774</td>   <td>True</td> \n",
       "</tr>\n",
       "<tr>\n",
       "  <td>southeast</td> <td>southwest</td>  <td>-2.7594</td>   <td>0.0</td>  <td>-3.9079</td> <td>-1.6108</td>  <td>True</td> \n",
       "</tr>\n",
       "</table>"
      ],
      "text/plain": [
       "<class 'statsmodels.iolib.table.SimpleTable'>"
      ]
     },
     "execution_count": 26,
     "metadata": {},
     "output_type": "execute_result"
    },
    {
     "data": {
      "image/png": "[encoded data removed]",
      "text/plain": [
       "<Figure size 1000x600 with 1 Axes>"
      ]
     },
     "metadata": {},
     "output_type": "display_data"
    }
   ],
   "source": [
    "tukey = pairwise_tukeyhsd(endog=data['bmi'], groups=data['region'], alpha=0.05)\n",
    "tukey.plot_simultaneous()\n",
    "tukey.summary()\n"
   ]
  },
  {
   "cell_type": "markdown",
   "metadata": {},
   "source": [
    "<font size=\"3\">Как и в предыдущем тесте, все группы показывают различие в BMI, кроме пары northeast - northwest. График это подтверждает, доверительные интервалы этих групп перекрываются.</font>"
   ]
  },
  {
   "cell_type": "markdown",
   "metadata": {},
   "source": [
    "<font size=\"4\">Задание 6. Выполнить двухфакторный ANOVA тест, чтобы проверить влияние\n",
    "региона и пола на индекс массы тела (BMI), используя функцию anova_lm() из библиотеки statsmodels.</font>"
   ]
  },
  {
   "cell_type": "code",
   "execution_count": 29,
   "metadata": {},
   "outputs": [
    {
     "data": {
      "text/html": [
       "<div>\n",
       "<style scoped>\n",
       "    .dataframe tbody tr th:only-of-type {\n",
       "        vertical-align: middle;\n",
       "    }\n",
       "\n",
       "    .dataframe tbody tr th {\n",
       "        vertical-align: top;\n",
       "    }\n",
       "\n",
       "    .dataframe thead th {\n",
       "        text-align: right;\n",
       "    }\n",
       "</style>\n",
       "<table border=\"1\" class=\"dataframe\">\n",
       "  <thead>\n",
       "    <tr style=\"text-align: right;\">\n",
       "      <th></th>\n",
       "      <th>sex</th>\n",
       "      <th>bmi</th>\n",
       "      <th>region</th>\n",
       "    </tr>\n",
       "  </thead>\n",
       "  <tbody>\n",
       "    <tr>\n",
       "      <th>0</th>\n",
       "      <td>female</td>\n",
       "      <td>27.900</td>\n",
       "      <td>southwest</td>\n",
       "    </tr>\n",
       "    <tr>\n",
       "      <th>1</th>\n",
       "      <td>male</td>\n",
       "      <td>33.770</td>\n",
       "      <td>southeast</td>\n",
       "    </tr>\n",
       "    <tr>\n",
       "      <th>2</th>\n",
       "      <td>male</td>\n",
       "      <td>33.000</td>\n",
       "      <td>southeast</td>\n",
       "    </tr>\n",
       "    <tr>\n",
       "      <th>3</th>\n",
       "      <td>male</td>\n",
       "      <td>22.705</td>\n",
       "      <td>northwest</td>\n",
       "    </tr>\n",
       "    <tr>\n",
       "      <th>4</th>\n",
       "      <td>male</td>\n",
       "      <td>28.880</td>\n",
       "      <td>northwest</td>\n",
       "    </tr>\n",
       "    <tr>\n",
       "      <th>...</th>\n",
       "      <td>...</td>\n",
       "      <td>...</td>\n",
       "      <td>...</td>\n",
       "    </tr>\n",
       "    <tr>\n",
       "      <th>1333</th>\n",
       "      <td>male</td>\n",
       "      <td>30.970</td>\n",
       "      <td>northwest</td>\n",
       "    </tr>\n",
       "    <tr>\n",
       "      <th>1334</th>\n",
       "      <td>female</td>\n",
       "      <td>31.920</td>\n",
       "      <td>northeast</td>\n",
       "    </tr>\n",
       "    <tr>\n",
       "      <th>1335</th>\n",
       "      <td>female</td>\n",
       "      <td>36.850</td>\n",
       "      <td>southeast</td>\n",
       "    </tr>\n",
       "    <tr>\n",
       "      <th>1336</th>\n",
       "      <td>female</td>\n",
       "      <td>25.800</td>\n",
       "      <td>southwest</td>\n",
       "    </tr>\n",
       "    <tr>\n",
       "      <th>1337</th>\n",
       "      <td>female</td>\n",
       "      <td>29.070</td>\n",
       "      <td>northwest</td>\n",
       "    </tr>\n",
       "  </tbody>\n",
       "</table>\n",
       "<p>1338 rows × 3 columns</p>\n",
       "</div>"
      ],
      "text/plain": [
       "         sex     bmi     region\n",
       "0     female  27.900  southwest\n",
       "1       male  33.770  southeast\n",
       "2       male  33.000  southeast\n",
       "3       male  22.705  northwest\n",
       "4       male  28.880  northwest\n",
       "...      ...     ...        ...\n",
       "1333    male  30.970  northwest\n",
       "1334  female  31.920  northeast\n",
       "1335  female  36.850  southeast\n",
       "1336  female  25.800  southwest\n",
       "1337  female  29.070  northwest\n",
       "\n",
       "[1338 rows x 3 columns]"
      ]
     },
     "execution_count": 29,
     "metadata": {},
     "output_type": "execute_result"
    }
   ],
   "source": [
    "data = importedData.drop(columns=['age', 'children', 'smoker', 'charges'])\n",
    "data"
   ]
  },
  {
   "cell_type": "code",
   "execution_count": 31,
   "metadata": {},
   "outputs": [
    {
     "data": {
      "text/html": [
       "<div>\n",
       "<style scoped>\n",
       "    .dataframe tbody tr th:only-of-type {\n",
       "        vertical-align: middle;\n",
       "    }\n",
       "\n",
       "    .dataframe tbody tr th {\n",
       "        vertical-align: top;\n",
       "    }\n",
       "\n",
       "    .dataframe thead th {\n",
       "        text-align: right;\n",
       "    }\n",
       "</style>\n",
       "<table border=\"1\" class=\"dataframe\">\n",
       "  <thead>\n",
       "    <tr style=\"text-align: right;\">\n",
       "      <th></th>\n",
       "      <th>sum_sq</th>\n",
       "      <th>df</th>\n",
       "      <th>F</th>\n",
       "      <th>PR(&gt;F)</th>\n",
       "    </tr>\n",
       "  </thead>\n",
       "  <tbody>\n",
       "    <tr>\n",
       "      <th>C(region)</th>\n",
       "      <td>4034.975135</td>\n",
       "      <td>3.0</td>\n",
       "      <td>39.398134</td>\n",
       "      <td>2.163195e-24</td>\n",
       "    </tr>\n",
       "    <tr>\n",
       "      <th>C(sex)</th>\n",
       "      <td>86.007035</td>\n",
       "      <td>1.0</td>\n",
       "      <td>2.519359</td>\n",
       "      <td>1.126940e-01</td>\n",
       "    </tr>\n",
       "    <tr>\n",
       "      <th>C(region):C(sex)</th>\n",
       "      <td>174.157808</td>\n",
       "      <td>3.0</td>\n",
       "      <td>1.700504</td>\n",
       "      <td>1.650655e-01</td>\n",
       "    </tr>\n",
       "    <tr>\n",
       "      <th>Residual</th>\n",
       "      <td>45404.154911</td>\n",
       "      <td>1330.0</td>\n",
       "      <td>NaN</td>\n",
       "      <td>NaN</td>\n",
       "    </tr>\n",
       "  </tbody>\n",
       "</table>\n",
       "</div>"
      ],
      "text/plain": [
       "                        sum_sq      df          F        PR(>F)\n",
       "C(region)          4034.975135     3.0  39.398134  2.163195e-24\n",
       "C(sex)               86.007035     1.0   2.519359  1.126940e-01\n",
       "C(region):C(sex)    174.157808     3.0   1.700504  1.650655e-01\n",
       "Residual          45404.154911  1330.0        NaN           NaN"
      ]
     },
     "execution_count": 31,
     "metadata": {},
     "output_type": "execute_result"
    }
   ],
   "source": [
    "model = ols('bmi ~ C(region) + C(sex) + C(region):C(sex)', data=data).fit()\n",
    "sm.stats.anova_lm(model, typ=2)"
   ]
  },
  {
   "cell_type": "markdown",
   "metadata": {},
   "source": [
    "<font size=\"3\">P-значения всех факторов меньше 0.05, это значит что все факторы оказывают статистически значимое влияние на значение BMI.</font>"
   ]
  },
  {
   "cell_type": "markdown",
   "metadata": {},
   "source": [
    "<font size=\"4\">Задание 7. Выполнить пост-хок тесты Тьюки и построить график.</font>"
   ]
  },
  {
   "cell_type": "code",
   "execution_count": 33,
   "metadata": {},
   "outputs": [
    {
     "data": {
      "text/plain": [
       "0       southwest / female\n",
       "1         southeast / male\n",
       "2         southeast / male\n",
       "3         northwest / male\n",
       "4         northwest / male\n",
       "               ...        \n",
       "1333      northwest / male\n",
       "1334    northeast / female\n",
       "1335    southeast / female\n",
       "1336    southwest / female\n",
       "1337    northwest / female\n",
       "Name: combinaiton, Length: 1338, dtype: object"
      ]
     },
     "execution_count": 33,
     "metadata": {},
     "output_type": "execute_result"
    }
   ],
   "source": [
    "data['combinaiton'] = data['region'] + \" / \" + data['sex']\n",
    "data['combinaiton']"
   ]
  },
  {
   "cell_type": "code",
   "execution_count": 34,
   "metadata": {},
   "outputs": [
    {
     "data": {
      "text/html": [
       "<table class=\"simpletable\">\n",
       "<caption>Multiple Comparison of Means - Tukey HSD, FWER=0.05</caption>\n",
       "<tr>\n",
       "        <th>group1</th>             <th>group2</th>       <th>meandiff</th>  <th>p-adj</th>  <th>lower</th>   <th>upper</th>  <th>reject</th>\n",
       "</tr>\n",
       "<tr>\n",
       "  <td>northeast / female</td>  <td>northeast / male</td>   <td>-0.2998</td> <td>0.9998</td> <td>-2.2706</td> <td>1.6711</td>   <td>False</td>\n",
       "</tr>\n",
       "<tr>\n",
       "  <td>northeast / female</td> <td>northwest / female</td>  <td>-0.0464</td>   <td>1.0</td>  <td>-2.0142</td> <td>1.9215</td>   <td>False</td>\n",
       "</tr>\n",
       "<tr>\n",
       "  <td>northeast / female</td>  <td>northwest / male</td>   <td>-0.2042</td>   <td>1.0</td>  <td>-2.1811</td> <td>1.7728</td>   <td>False</td>\n",
       "</tr>\n",
       "<tr>\n",
       "  <td>northeast / female</td> <td>southeast / female</td>  <td>3.3469</td>    <td>0.0</td>   <td>1.41</td>   <td>5.2839</td>   <td>True</td> \n",
       "</tr>\n",
       "<tr>\n",
       "  <td>northeast / female</td>  <td>southeast / male</td>   <td>4.6657</td>    <td>0.0</td>  <td>2.7634</td>   <td>6.568</td>   <td>True</td> \n",
       "</tr>\n",
       "<tr>\n",
       "  <td>northeast / female</td> <td>southwest / female</td>  <td>0.7362</td>  <td>0.9497</td> <td>-1.2377</td>  <td>2.71</td>    <td>False</td>\n",
       "</tr>\n",
       "<tr>\n",
       "  <td>northeast / female</td>  <td>southwest / male</td>   <td>1.8051</td>  <td>0.1007</td> <td>-0.1657</td>  <td>3.776</td>   <td>False</td>\n",
       "</tr>\n",
       "<tr>\n",
       "   <td>northeast / male</td>  <td>northwest / female</td>  <td>0.2534</td>  <td>0.9999</td> <td>-1.7083</td> <td>2.2152</td>   <td>False</td>\n",
       "</tr>\n",
       "<tr>\n",
       "   <td>northeast / male</td>   <td>northwest / male</td>   <td>0.0956</td>    <td>1.0</td>  <td>-1.8752</td> <td>2.0665</td>   <td>False</td>\n",
       "</tr>\n",
       "<tr>\n",
       "   <td>northeast / male</td>  <td>southeast / female</td>  <td>3.6467</td>    <td>0.0</td>  <td>1.7159</td>  <td>5.5775</td>   <td>True</td> \n",
       "</tr>\n",
       "<tr>\n",
       "   <td>northeast / male</td>   <td>southeast / male</td>   <td>4.9655</td>    <td>0.0</td>  <td>3.0695</td>  <td>6.8614</td>   <td>True</td> \n",
       "</tr>\n",
       "<tr>\n",
       "   <td>northeast / male</td>  <td>southwest / female</td>   <td>1.036</td>  <td>0.7515</td> <td>-0.9318</td> <td>3.0037</td>   <td>False</td>\n",
       "</tr>\n",
       "<tr>\n",
       "   <td>northeast / male</td>   <td>southwest / male</td>   <td>2.1049</td>  <td>0.0258</td> <td>0.1402</td>  <td>4.0697</td>   <td>True</td> \n",
       "</tr>\n",
       "<tr>\n",
       "  <td>northwest / female</td>  <td>northwest / male</td>   <td>-0.1578</td>   <td>1.0</td>  <td>-2.1257</td>  <td>1.81</td>    <td>False</td>\n",
       "</tr>\n",
       "<tr>\n",
       "  <td>northwest / female</td> <td>southeast / female</td>  <td>3.3933</td>    <td>0.0</td>  <td>1.4656</td>   <td>5.321</td>   <td>True</td> \n",
       "</tr>\n",
       "<tr>\n",
       "  <td>northwest / female</td>  <td>southeast / male</td>    <td>4.712</td>    <td>0.0</td>  <td>2.8192</td>  <td>6.6049</td>   <td>True</td> \n",
       "</tr>\n",
       "<tr>\n",
       "  <td>northwest / female</td> <td>southwest / female</td>  <td>0.7825</td>  <td>0.9294</td> <td>-1.1822</td> <td>2.7473</td>   <td>False</td>\n",
       "</tr>\n",
       "<tr>\n",
       "  <td>northwest / female</td>  <td>southwest / male</td>   <td>1.8515</td>  <td>0.0806</td> <td>-0.1103</td> <td>3.8132</td>   <td>False</td>\n",
       "</tr>\n",
       "<tr>\n",
       "   <td>northwest / male</td>  <td>southeast / female</td>  <td>3.5511</td>    <td>0.0</td>  <td>1.6141</td>  <td>5.4881</td>   <td>True</td> \n",
       "</tr>\n",
       "<tr>\n",
       "   <td>northwest / male</td>   <td>southeast / male</td>   <td>4.8698</td>    <td>0.0</td>  <td>2.9676</td>  <td>6.7721</td>   <td>True</td> \n",
       "</tr>\n",
       "<tr>\n",
       "   <td>northwest / male</td>  <td>southwest / female</td>  <td>0.9403</td>  <td>0.8354</td> <td>-1.0335</td> <td>2.9142</td>   <td>False</td>\n",
       "</tr>\n",
       "<tr>\n",
       "   <td>northwest / male</td>   <td>southwest / male</td>   <td>2.0093</td>   <td>0.042</td> <td>0.0385</td>  <td>3.9801</td>   <td>True</td> \n",
       "</tr>\n",
       "<tr>\n",
       "  <td>southeast / female</td>  <td>southeast / male</td>   <td>1.3187</td>  <td>0.3823</td> <td>-0.542</td>  <td>3.1795</td>   <td>False</td>\n",
       "</tr>\n",
       "<tr>\n",
       "  <td>southeast / female</td> <td>southwest / female</td>  <td>-2.6108</td> <td>0.0011</td> <td>-4.5446</td> <td>-0.6769</td>  <td>True</td> \n",
       "</tr>\n",
       "<tr>\n",
       "  <td>southeast / female</td>  <td>southwest / male</td>   <td>-1.5418</td> <td>0.2304</td> <td>-3.4726</td>  <td>0.389</td>   <td>False</td>\n",
       "</tr>\n",
       "<tr>\n",
       "   <td>southeast / male</td>  <td>southwest / female</td>  <td>-3.9295</td>   <td>0.0</td>  <td>-5.8286</td> <td>-2.0304</td>  <td>True</td> \n",
       "</tr>\n",
       "<tr>\n",
       "   <td>southeast / male</td>   <td>southwest / male</td>   <td>-2.8606</td> <td>0.0001</td> <td>-4.7565</td> <td>-0.9646</td>  <td>True</td> \n",
       "</tr>\n",
       "<tr>\n",
       "  <td>southwest / female</td>  <td>southwest / male</td>    <td>1.069</td>  <td>0.7201</td> <td>-0.8988</td> <td>3.0367</td>   <td>False</td>\n",
       "</tr>\n",
       "</table>"
      ],
      "text/plain": [
       "<class 'statsmodels.iolib.table.SimpleTable'>"
      ]
     },
     "execution_count": 34,
     "metadata": {},
     "output_type": "execute_result"
    },
    {
     "data": {
      "image/png": "[encoded data removed]",
      "text/plain": [
       "<Figure size 1000x600 with 1 Axes>"
      ]
     },
     "metadata": {},
     "output_type": "display_data"
    }
   ],
   "source": [
    "tukey = pairwise_tukeyhsd(endog=data['bmi'], groups=data['combinaiton'], alpha=0.05)\n",
    "tukey.plot_simultaneous()\n",
    "tukey.summary()"
   ]
  },
  {
   "cell_type": "markdown",
   "metadata": {},
   "source": [
    "<font size=\"3\">Из выполненного теста можно сделать выводы, что хоть и многие группы имеют статистически важные различия (о чем свидетельствует значение 'true' в колонке 'reject'), не все так однозначно, и к примеру у групп northwest и southwest есть пересекающиеся довирительные интервалы в многих подгруппах, что может говорить и о близости их значений. К слову группы из северных регионов очень похожи, и имеют больше общего, чем группы из южных, где southeast отличается от southwest больше, чем последний отличается от северных регионов. </font>"
   ]
  }
 ],
 "metadata": {
  "kernelspec": {
   "display_name": "Python 3.9.1 64-bit",
   "language": "python",
   "name": "python3"
  },
  "language_info": {
   "codemirror_mode": {
    "name": "ipython",
    "version": 3
   },
   "file_extension": ".py",
   "mimetype": "text/x-python",
   "name": "python",
   "nbconvert_exporter": "python",
   "pygments_lexer": "ipython3",
   "version": "3.9.1"
  },
  "orig_nbformat": 4,
  "vscode": {
   "interpreter": {
    "hash": "aee8b7b246df8f9039afb4144a1f6fd8d2ca17a180786b69acc140d282b71a49"
   }
  }
 },
 "nbformat": 4,
 "nbformat_minor": 2
}
